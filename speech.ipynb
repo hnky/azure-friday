{
 "cells": [
  {
   "cell_type": "markdown",
   "id": "d1bdd4bd",
   "metadata": {},
   "source": [
    "# Making sense of the world through speech"
   ]
  },
  {
   "cell_type": "code",
   "execution_count": null,
   "id": "36f36a2b",
   "metadata": {},
   "outputs": [],
   "source": [
    "from azure.cognitiveservices.speech import AudioDataStream, SpeechConfig, SpeechSynthesizer, SpeechSynthesisOutputFormat\n",
    "from azure.cognitiveservices.speech.audio import AudioOutputConfig\n",
    "import IPython\n",
    "import os\n",
    "import azure.cognitiveservices.speech as speechsdk"
   ]
  },
  {
   "cell_type": "code",
   "execution_count": null,
   "id": "153a5219",
   "metadata": {},
   "outputs": [],
   "source": [
    "sentence = \"Accessibility empowers everyone. \\\n",
    "    Accessibility and inclusion are essential to delivering our mission \\\n",
    "    to empower every person and every organisation on the planet to achieve more\""
   ]
  },
  {
   "cell_type": "code",
   "execution_count": null,
   "id": "6157c5b2",
   "metadata": {},
   "outputs": [],
   "source": [
    "speech_key = \"<INSERT KEY>\"\n",
    "service_region = \"westeurope\""
   ]
  },
  {
   "cell_type": "markdown",
   "id": "958cb529",
   "metadata": {},
   "source": [
    "# \n",
    "\n",
    "\n",
    "\n",
    "\n",
    "\n",
    "## Neural text-to-speech\n",
    "\n",
    "Microsoft neural text-to-speech uses deep neural networks to make the voices of computers nearly indistinguishable from recordings of people. With the human-like natural prosody and clear articulation of words, neural text-to-speech has significantly reduced listening fatigue when you interact with AI systems.\n",
    "\n",
    "[Language support](https://docs.microsoft.com/azure/cognitive-services/speech-service/language-support#neural-voices)   \n",
    "[What is neural text-to-speech?](https://docs.microsoft.com/en-us/azure/cognitive-services/speech-service/text-to-speech)"
   ]
  },
  {
   "cell_type": "code",
   "execution_count": null,
   "id": "0152e1f5",
   "metadata": {},
   "outputs": [],
   "source": [
    "speech_config = SpeechConfig(subscription=speech_key, region=service_region)\n",
    "speech_config.speech_synthesis_language = \"en-GB\" \n",
    "speech_config.speech_synthesis_voice_name =\"en-GB-LibbyNeural\"\n",
    "speech_config.speech_synthesis_voice_name =\"en-GB-HazelRUS\""
   ]
  },
  {
   "cell_type": "code",
   "execution_count": null,
   "id": "2137e5dc",
   "metadata": {},
   "outputs": [],
   "source": [
    "audio_file=f'{speech_config.speech_synthesis_voice_name}.wav'\n",
    "\n",
    "audio_config = AudioOutputConfig(filename=audio_file)\n",
    "\n",
    "synthesizer = SpeechSynthesizer(speech_config=speech_config, audio_config=audio_config)\n",
    "\n",
    "synthesizer.speak_text(sentence)"
   ]
  },
  {
   "cell_type": "code",
   "execution_count": null,
   "id": "c90189e8",
   "metadata": {},
   "outputs": [],
   "source": [
    "IPython.display.Audio(audio_file,autoplay=True)"
   ]
  },
  {
   "cell_type": "markdown",
   "id": "43d2d16c",
   "metadata": {},
   "source": [
    "# \n",
    "\n",
    "\n",
    "\n",
    "\n",
    "\n",
    "## Speech translation (Translating speech-to-text)\n",
    "\n",
    "One of the core features of the Speech service is the ability to recognize human speech and translate it to other languages.\n",
    "\n",
    "[Get started with speech translation](https://docs.microsoft.com/en-us/azure/cognitive-services/speech-service/get-started-speech-translation)\n"
   ]
  },
  {
   "cell_type": "code",
   "execution_count": null,
   "id": "2266a907",
   "metadata": {},
   "outputs": [],
   "source": [
    "translation_config = speechsdk.translation.SpeechTranslationConfig(\n",
    "        subscription=speech_key, region=service_region)\n",
    "\n",
    "translation_config.speech_recognition_language = \"en-US\"\n",
    "\n",
    "translation_config.add_target_language('nl-nl')\n",
    "translation_config.add_target_language(\"hi\")\n",
    "\n",
    "recognizer = speechsdk.translation.TranslationRecognizer(\n",
    "        translation_config=translation_config)\n",
    "\n",
    "print('Say something...')\n",
    "result = recognizer.recognize_once()\n",
    "\n",
    "print(f'Recognized: \"{result.text}\"')\n",
    "\n",
    "print(\"= Translations =\")\n",
    "for trans in result.translations:\n",
    "    print(f'\\n{trans}: {result.translations[trans]}')"
   ]
  },
  {
   "cell_type": "markdown",
   "id": "153070a4",
   "metadata": {},
   "source": [
    "# \n",
    "\n",
    "\n",
    "\n",
    "\n",
    "\n",
    "##  Translating speech to multiple target languages and Synthesize translations"
   ]
  },
  {
   "cell_type": "code",
   "execution_count": null,
   "id": "2c23a96b",
   "metadata": {},
   "outputs": [],
   "source": [
    "from_language = 'en-US'\n",
    "to_languages =  ['nl','en','hi','pt','lt','zh-Hans']\n",
    "\n",
    "def translate_speech_to_text():\n",
    "    translation_config = speechsdk.translation.SpeechTranslationConfig(\n",
    "            subscription=speech_key, region=service_region)\n",
    "\n",
    "    translation_config.speech_recognition_language = from_language\n",
    "    for lang in to_languages:\n",
    "        translation_config.add_target_language(lang)\n",
    "\n",
    "    recognizer = speechsdk.translation.TranslationRecognizer(\n",
    "            translation_config=translation_config)\n",
    "    \n",
    "    print('Say something...')\n",
    "    result = recognizer.recognize_once()\n",
    "    synthesize_translations(result=result)\n",
    "\n",
    "def synthesize_translations(result):\n",
    "    language_to_voice_map = {\n",
    "        \"nl\": \"nl-NL-FennaNeural\",\n",
    "        \"en\": \"en-US-AriaNeural\",\n",
    "        \"hi\": \"hi-IN-SwaraNeural\",\n",
    "        \"pt\": \"pt-BR-FranciscaNeural\",\n",
    "        \"lt\": \"lt-LT-OnaNeural\",\n",
    "        \"zh-Hans\": \"zh-CN-XiaoxiaoNeural\"\n",
    "    }\n",
    "    print(f'Recognized: \"{result.text}\"')\n",
    "\n",
    "    for language in result.translations:\n",
    "        translation = result.translations[language]\n",
    "        print(f'Translated into \"{language}\": {translation}')\n",
    "\n",
    "        speech_config = speechsdk.SpeechConfig(subscription=speech_key, region=service_region)\n",
    "        speech_config.speech_synthesis_voice_name = language_to_voice_map.get(language)\n",
    "        \n",
    "        audio_config = speechsdk.audio.AudioOutputConfig(filename=f'{language}-translation.wav')\n",
    "        speech_synthesizer = speechsdk.SpeechSynthesizer(speech_config=speech_config, audio_config=audio_config)\n",
    "        speech_synthesizer.speak_text_async(translation).get()\n",
    "\n",
    "translate_speech_to_text()"
   ]
  },
  {
   "cell_type": "code",
   "execution_count": null,
   "id": "76eafb43",
   "metadata": {},
   "outputs": [],
   "source": [
    "IPython.display.Audio(\"en-translation.wav\",autoplay=True)"
   ]
  },
  {
   "cell_type": "code",
   "execution_count": null,
   "id": "2ce7a1d3",
   "metadata": {},
   "outputs": [],
   "source": [
    "IPython.display.Audio(\"hi-translation.wav\",autoplay=True)"
   ]
  },
  {
   "cell_type": "code",
   "execution_count": null,
   "id": "bd077bc1",
   "metadata": {},
   "outputs": [],
   "source": [
    "IPython.display.Audio(\"nl-translation.wav\",autoplay=True)"
   ]
  }
 ],
 "metadata": {
  "kernelspec": {
   "display_name": "Python 3 (ipykernel)",
   "language": "python",
   "name": "python3"
  },
  "language_info": {
   "codemirror_mode": {
    "name": "ipython",
    "version": 3
   },
   "file_extension": ".py",
   "mimetype": "text/x-python",
   "name": "python",
   "nbconvert_exporter": "python",
   "pygments_lexer": "ipython3",
   "version": "3.8.10"
  }
 },
 "nbformat": 4,
 "nbformat_minor": 5
}
